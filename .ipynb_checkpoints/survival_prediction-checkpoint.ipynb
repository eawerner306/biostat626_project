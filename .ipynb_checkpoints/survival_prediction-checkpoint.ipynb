{
 "cells": [
  {
   "cell_type": "code",
   "execution_count": 1,
   "id": "237e05a2-1d3d-49fb-b85a-e926dc83372e",
   "metadata": {},
   "outputs": [
    {
     "name": "stderr",
     "output_type": "stream",
     "text": [
      "2024-03-27 11:11:40.028955: I tensorflow/core/platform/cpu_feature_guard.cc:182] This TensorFlow binary is optimized to use available CPU instructions in performance-critical operations.\n",
      "To enable the following instructions: SSE4.1 SSE4.2 AVX AVX2 FMA, in other operations, rebuild TensorFlow with the appropriate compiler flags.\n"
     ]
    }
   ],
   "source": [
    "import tensorflow as tf\n",
    "from tensorflow.keras.utils import load_img\n",
    "from keras.models import Sequential, Model\n",
    "from keras.layers import Dense, Conv2D, Dropout, Flatten, MaxPooling2D, Input\n",
    "import numpy as np\n",
    "import pandas as pd\n",
    "import random\n",
    "import matplotlib.pyplot as plt\n",
    "import os \n",
    "import seaborn as sns\n",
    "import warnings \n",
    "from tqdm.notebook import tqdm \n",
    "warnings.filterwarnings('ignore')\n",
    "%matplotlib inline"
   ]
  },
  {
   "cell_type": "markdown",
   "id": "de413124-02a4-442c-8658-5859ffc7f720",
   "metadata": {},
   "source": [
    "## Load the dataset"
   ]
  },
  {
   "cell_type": "code",
   "execution_count": 24,
   "id": "73691415-c40b-4cc6-b967-b8b2ee4204bc",
   "metadata": {},
   "outputs": [
    {
     "data": {
      "application/vnd.jupyter.widget-view+json": {
       "model_id": "b4b77154823f48c580b93ebde12907a0",
       "version_major": 2,
       "version_minor": 0
      },
      "text/plain": [
       "  0%|          | 0/225 [00:00<?, ?it/s]"
      ]
     },
     "metadata": {},
     "output_type": "display_data"
    }
   ],
   "source": [
    "base_dir = \"/Users/will/Documents/Documents - Mac (2)/UM/Winter24/BIOSTAT626/project\"\n",
    "train_img_fnames = os.listdir(os.path.join(base_dir, \"train\", \"images\"))\n",
    "image_paths = []\n",
    "image_ids = []\n",
    "\n",
    "for image in tqdm(train_img_fnames):\n",
    "    image_path = os.path.join(base_dir, \"train\", \"images\", image)\n",
    "    image_id = os.path.basename(os.path.splitext(image_path)[0])\n",
    "    image_paths.append(image_path)\n",
    "    image_ids.append(int(image_id))\n",
    "    "
   ]
  },
  {
   "cell_type": "code",
   "execution_count": 25,
   "id": "9b449f96-d3da-4240-a847-fedc255cc4f2",
   "metadata": {},
   "outputs": [
    {
     "data": {
      "text/html": [
       "<div>\n",
       "<style scoped>\n",
       "    .dataframe tbody tr th:only-of-type {\n",
       "        vertical-align: middle;\n",
       "    }\n",
       "\n",
       "    .dataframe tbody tr th {\n",
       "        vertical-align: top;\n",
       "    }\n",
       "\n",
       "    .dataframe thead th {\n",
       "        text-align: right;\n",
       "    }\n",
       "</style>\n",
       "<table border=\"1\" class=\"dataframe\">\n",
       "  <thead>\n",
       "    <tr style=\"text-align: right;\">\n",
       "      <th></th>\n",
       "      <th>id</th>\n",
       "      <th>image_path</th>\n",
       "    </tr>\n",
       "  </thead>\n",
       "  <tbody>\n",
       "    <tr>\n",
       "      <th>0</th>\n",
       "      <td>31</td>\n",
       "      <td>/Users/will/Documents/Documents - Mac (2)/UM/W...</td>\n",
       "    </tr>\n",
       "    <tr>\n",
       "      <th>1</th>\n",
       "      <td>169</td>\n",
       "      <td>/Users/will/Documents/Documents - Mac (2)/UM/W...</td>\n",
       "    </tr>\n",
       "    <tr>\n",
       "      <th>2</th>\n",
       "      <td>186</td>\n",
       "      <td>/Users/will/Documents/Documents - Mac (2)/UM/W...</td>\n",
       "    </tr>\n",
       "    <tr>\n",
       "      <th>3</th>\n",
       "      <td>217</td>\n",
       "      <td>/Users/will/Documents/Documents - Mac (2)/UM/W...</td>\n",
       "    </tr>\n",
       "    <tr>\n",
       "      <th>4</th>\n",
       "      <td>66</td>\n",
       "      <td>/Users/will/Documents/Documents - Mac (2)/UM/W...</td>\n",
       "    </tr>\n",
       "  </tbody>\n",
       "</table>\n",
       "</div>"
      ],
      "text/plain": [
       "    id                                         image_path\n",
       "0   31  /Users/will/Documents/Documents - Mac (2)/UM/W...\n",
       "1  169  /Users/will/Documents/Documents - Mac (2)/UM/W...\n",
       "2  186  /Users/will/Documents/Documents - Mac (2)/UM/W...\n",
       "3  217  /Users/will/Documents/Documents - Mac (2)/UM/W...\n",
       "4   66  /Users/will/Documents/Documents - Mac (2)/UM/W..."
      ]
     },
     "execution_count": 25,
     "metadata": {},
     "output_type": "execute_result"
    }
   ],
   "source": [
    "img_data = pd.DataFrame()\n",
    "img_data['id'], img_data['image_path'] = image_ids, image_paths\n",
    "img_data.head(5)"
   ]
  },
  {
   "cell_type": "code",
   "execution_count": 26,
   "id": "b849f644-25dc-4c66-9939-5cda51eea9b1",
   "metadata": {},
   "outputs": [
    {
     "name": "stdout",
     "output_type": "stream",
     "text": [
      "49\n",
      "/Users/will/Documents/Documents - Mac (2)/UM/Winter24/BIOSTAT626/project/train/images/49.tiff\n"
     ]
    }
   ],
   "source": [
    "# Check the IDs match\n",
    "print(image_id)\n",
    "print(image_path)"
   ]
  },
  {
   "cell_type": "code",
   "execution_count": 27,
   "id": "0445846c-1aee-4987-854c-50ad332159b5",
   "metadata": {},
   "outputs": [],
   "source": [
    "### Merge in survival data labels\n",
    "train_data = pd.read_csv(os.path.join(base_dir, \"train\", \"train_data.csv\"))\n",
    "data = pd.merge(img_data, train_data, on=\"id\")"
   ]
  },
  {
   "cell_type": "code",
   "execution_count": 28,
   "id": "1ea4e7d5-6a17-40c5-882c-1a7ead7a7449",
   "metadata": {},
   "outputs": [
    {
     "data": {
      "text/plain": [
       "id         int64\n",
       "OSmonth    int64\n",
       "dtype: object"
      ]
     },
     "execution_count": 28,
     "metadata": {},
     "output_type": "execute_result"
    }
   ],
   "source": [
    "train_data.dtypes"
   ]
  },
  {
   "cell_type": "code",
   "execution_count": 29,
   "id": "a3bfa0f2-26c2-42d7-af94-a720cb40e40a",
   "metadata": {},
   "outputs": [
    {
     "data": {
      "text/plain": [
       "id             int64\n",
       "image_path    object\n",
       "dtype: object"
      ]
     },
     "execution_count": 29,
     "metadata": {},
     "output_type": "execute_result"
    }
   ],
   "source": [
    "img_data.dtypes"
   ]
  },
  {
   "cell_type": "code",
   "execution_count": 30,
   "id": "30db7e18-0b56-4fea-8e6c-2e55581eec4f",
   "metadata": {},
   "outputs": [
    {
     "data": {
      "text/plain": [
       "int"
      ]
     },
     "execution_count": 30,
     "metadata": {},
     "output_type": "execute_result"
    }
   ],
   "source": [
    "type(image_ids[0])"
   ]
  }
 ],
 "metadata": {
  "kernelspec": {
   "display_name": "Python 3 (ipykernel)",
   "language": "python",
   "name": "python3"
  },
  "language_info": {
   "codemirror_mode": {
    "name": "ipython",
    "version": 3
   },
   "file_extension": ".py",
   "mimetype": "text/x-python",
   "name": "python",
   "nbconvert_exporter": "python",
   "pygments_lexer": "ipython3",
   "version": "3.8.18"
  }
 },
 "nbformat": 4,
 "nbformat_minor": 5
}
